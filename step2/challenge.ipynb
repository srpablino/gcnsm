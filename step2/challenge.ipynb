{
 "cells": [
  {
   "cell_type": "markdown",
   "metadata": {},
   "source": [
    "# Read dataset and plot graph"
   ]
  },
  {
   "cell_type": "markdown",
   "metadata": {},
   "source": [
    "## Process input jsons and create metafeature file"
   ]
  },
  {
   "cell_type": "code",
   "execution_count": null,
   "metadata": {},
   "outputs": [],
   "source": [
    "# import os\n",
    "# import pandas as pd\n",
    "# import json\n",
    "# from pathlib import Path\n",
    "\n",
    "# def get_dirs(path):\n",
    "#     drs = os.walk(path)\n",
    "#     dirs = []\n",
    "#     for dr in drs:\n",
    "#         dirs.append(dr)\n",
    "#     return dirs[1:]\n",
    "\n",
    "# def get_headers(dirs):\n",
    "#     headers = []\n",
    "#     for d in range(len(dirs)):\n",
    "#         att_list = []\n",
    "#         for f in dirs[d][2]:\n",
    "#             json_path = dirs[d][0]+\"/\"+f\n",
    "#             with open(json_path, 'r') as f:\n",
    "#                 json_data = json.load(f)\n",
    "#                 att_list = att_list + list(json_data.keys())\n",
    "#         att_list = list(set(att_list))\n",
    "#         att_list.sort()\n",
    "#         headers.append(att_list)\n",
    "#     return headers\n",
    "\n",
    "# def write_csv(dirs,headers):\n",
    "#     for d in range(len(dirs)) :\n",
    "#         att_list = []\n",
    "#         csv = []\n",
    "#         for f in dirs[d][2]:\n",
    "#             json_path = dirs[d][0]+\"/\"+f\n",
    "#             with open(json_path, 'r') as f:\n",
    "#                 json_data = json.load(f)\n",
    "#                 row_csv =[]\n",
    "#                 for h in headers[d]:\n",
    "#                     if h in json_data.keys():\n",
    "#                         row_csv.append(json_data[h])\n",
    "#                         print(json_data[h])\n",
    "#                     else:\n",
    "#                         row_csv.append(None)\n",
    "#             csv.append(row_csv)\n",
    "        \n",
    "#         df = pd.DataFrame(csv, columns=headers[d])\n",
    "#         outdir_result = \"./outputs/json_files_to_csv/\"+dirs[d][0].split(\"/\")[-1]\n",
    "#         if not os.path.exists(outdir_result):\n",
    "#             Path(outdir_result).mkdir(parents=True, exist_ok=True)\n",
    "#         df.to_csv(outdir_result+\"/list.csv\", index=False, sep=\"|\")"
   ]
  },
  {
   "cell_type": "code",
   "execution_count": 5,
   "metadata": {},
   "outputs": [],
   "source": [
    "import os\n",
    "import pandas as pd\n",
    "import json\n",
    "from pathlib import Path\n",
    "import numpy as np\n",
    "import pandas as pd\n",
    "from pandas_profiling import ProfileReport\n",
    "import json\n",
    "\n",
    "def profiling(path,source):\n",
    "    csv_df = pd.read_csv(path,sep=\"~\")\n",
    "#     json_df = pd.read_json(path,typ='series')\n",
    "    profile = ProfileReport(csv_df, minimal=True)\n",
    "    json_data = profile.to_json()\n",
    "    y = json.loads(json_data)\n",
    "    profile.to_file(\"profile_\"+source+\".json\")\n",
    "#     print(json.dumps(y[\"variables\"], indent=4, sort_keys=True))\n",
    "    return y[\"variables\"]\n",
    "\n",
    "def get_dirs(path):\n",
    "    drs = os.walk(path)\n",
    "    dirs = []\n",
    "    for dr in drs:\n",
    "        dirs.append(dr)\n",
    "    return dirs[1:]\n",
    "\n",
    "def get_headers(dirs):\n",
    "    headers = []\n",
    "    for d in range(len(dirs)):\n",
    "        att_list = []\n",
    "        for f in dirs[d][2]:\n",
    "            json_path = dirs[d][0]+\"/\"+f\n",
    "            with open(json_path, 'r') as f:\n",
    "                json_data = json.load(f)\n",
    "                att_list = att_list + list(json_data.keys())\n",
    "        att_list = list(set(att_list))\n",
    "        att_list.sort()\n",
    "        headers.append(att_list)\n",
    "    return headers\n",
    "\n",
    "def write_csv(dirs,headers):\n",
    "    mf_set = []\n",
    "    mf_header = [\"id\"]\n",
    "    for d in range(len(dirs)) :\n",
    "        att_list = []\n",
    "        csv = []\n",
    "        for f in dirs[d][2]:\n",
    "            json_path = dirs[d][0]+\"/\"+f\n",
    "            with open(json_path, 'r') as f:\n",
    "                json_data = json.load(f)\n",
    "                row_csv =[]\n",
    "                for h in headers[d]:\n",
    "                    if h in json_data.keys():\n",
    "                        row_csv.append(json_data[h])\n",
    "#                         print(json_data[h])\n",
    "                    else:\n",
    "                        row_csv.append(None)\n",
    "            csv.append(row_csv)\n",
    "        \n",
    "        df = pd.DataFrame(csv, columns=headers[d])\n",
    "        outdir_result = \"./output_monitor2/json_files_to_csv/\"+dirs[d][0].split(\"/\")[-1]\n",
    "        if not os.path.exists(outdir_result):\n",
    "            Path(outdir_result).mkdir(parents=True, exist_ok=True)\n",
    "        df.to_csv(outdir_result+\"/list.csv\", index=False, sep=\"~\")\n",
    "        source = dirs[d][0].split(\"/\")[-1]\n",
    "        mf = profiling(outdir_result+\"/list.csv\",source)\n",
    "        \n",
    "        for variable in mf.keys():\n",
    "            for key in mf[variable].keys():\n",
    "                if key not in mf_header:\n",
    "                    mf_header.append(key)\n",
    "        \n",
    "        for variable in mf.keys():\n",
    "            mf_row = [None] * len(mf_header)\n",
    "            mf_row[0] = source+\"//\"+variable\n",
    "            for key in mf[variable].keys():\n",
    "                i = mf_header.index(key)\n",
    "                mf_row[i] = mf[variable][key]\n",
    "            mf_set.append(mf_row)\n",
    "        \n",
    "    df = pd.DataFrame(mf_set, columns=mf_header)\n",
    "    df.to_csv(\"output_monitor2/\"+\"attr_mf.csv\", index=False, sep=\"~\")"
   ]
  },
  {
   "cell_type": "code",
   "execution_count": 6,
   "metadata": {
    "scrolled": true
   },
   "outputs": [
    {
     "data": {
      "application/vnd.jupyter.widget-view+json": {
       "model_id": "6a7034a3e837430e880d873bf9272535",
       "version_major": 2,
       "version_minor": 0
      },
      "text/plain": [
       "HBox(children=(FloatProgress(value=0.0, description='Summarize dataset', max=34.0, style=ProgressStyle(descrip…"
      ]
     },
     "metadata": {},
     "output_type": "display_data"
    },
    {
     "name": "stdout",
     "output_type": "stream",
     "text": [
      "\n"
     ]
    },
    {
     "data": {
      "application/vnd.jupyter.widget-view+json": {
       "model_id": "480e694a79704622a121d7bfdb6360cf",
       "version_major": 2,
       "version_minor": 0
      },
      "text/plain": [
       "HBox(children=(FloatProgress(value=0.0, description='Render JSON', max=1.0, style=ProgressStyle(description_wi…"
      ]
     },
     "metadata": {},
     "output_type": "display_data"
    },
    {
     "name": "stdout",
     "output_type": "stream",
     "text": [
      "\n"
     ]
    },
    {
     "data": {
      "application/vnd.jupyter.widget-view+json": {
       "model_id": "7b9768fee3834ce9a89979624b922ec8",
       "version_major": 2,
       "version_minor": 0
      },
      "text/plain": [
       "HBox(children=(FloatProgress(value=0.0, description='Export report to file', max=1.0, style=ProgressStyle(desc…"
      ]
     },
     "metadata": {},
     "output_type": "display_data"
    },
    {
     "name": "stdout",
     "output_type": "stream",
     "text": [
      "\n"
     ]
    },
    {
     "data": {
      "application/vnd.jupyter.widget-view+json": {
       "model_id": "1d3ee28830534e4f87c77c525a61df93",
       "version_major": 2,
       "version_minor": 0
      },
      "text/plain": [
       "HBox(children=(FloatProgress(value=0.0, description='Summarize dataset', max=24.0, style=ProgressStyle(descrip…"
      ]
     },
     "metadata": {},
     "output_type": "display_data"
    },
    {
     "name": "stdout",
     "output_type": "stream",
     "text": [
      "\n"
     ]
    },
    {
     "data": {
      "application/vnd.jupyter.widget-view+json": {
       "model_id": "f08c33bac13d4cbf8da788ebdb60c594",
       "version_major": 2,
       "version_minor": 0
      },
      "text/plain": [
       "HBox(children=(FloatProgress(value=0.0, description='Render JSON', max=1.0, style=ProgressStyle(description_wi…"
      ]
     },
     "metadata": {},
     "output_type": "display_data"
    },
    {
     "name": "stdout",
     "output_type": "stream",
     "text": [
      "\n"
     ]
    },
    {
     "data": {
      "application/vnd.jupyter.widget-view+json": {
       "model_id": "d2c4b1a2f395457a86e0ae1dc19bcfdb",
       "version_major": 2,
       "version_minor": 0
      },
      "text/plain": [
       "HBox(children=(FloatProgress(value=0.0, description='Export report to file', max=1.0, style=ProgressStyle(desc…"
      ]
     },
     "metadata": {},
     "output_type": "display_data"
    },
    {
     "name": "stdout",
     "output_type": "stream",
     "text": [
      "\n"
     ]
    },
    {
     "data": {
      "application/vnd.jupyter.widget-view+json": {
       "model_id": "aec3102301274398a9218aead4c96075",
       "version_major": 2,
       "version_minor": 0
      },
      "text/plain": [
       "HBox(children=(FloatProgress(value=0.0, description='Summarize dataset', max=82.0, style=ProgressStyle(descrip…"
      ]
     },
     "metadata": {},
     "output_type": "display_data"
    },
    {
     "name": "stdout",
     "output_type": "stream",
     "text": [
      "\n"
     ]
    },
    {
     "data": {
      "application/vnd.jupyter.widget-view+json": {
       "model_id": "49752af34722430f8e8a686ac0b330d0",
       "version_major": 2,
       "version_minor": 0
      },
      "text/plain": [
       "HBox(children=(FloatProgress(value=0.0, description='Render JSON', max=1.0, style=ProgressStyle(description_wi…"
      ]
     },
     "metadata": {},
     "output_type": "display_data"
    },
    {
     "name": "stdout",
     "output_type": "stream",
     "text": [
      "\n"
     ]
    },
    {
     "data": {
      "application/vnd.jupyter.widget-view+json": {
       "model_id": "66d049f661b240d3a72340e287ad4c93",
       "version_major": 2,
       "version_minor": 0
      },
      "text/plain": [
       "HBox(children=(FloatProgress(value=0.0, description='Export report to file', max=1.0, style=ProgressStyle(desc…"
      ]
     },
     "metadata": {},
     "output_type": "display_data"
    },
    {
     "name": "stdout",
     "output_type": "stream",
     "text": [
      "\n"
     ]
    },
    {
     "name": "stderr",
     "output_type": "stream",
     "text": [
      "/home/pablo/.local/lib/python3.6/site-packages/IPython/core/interactiveshell.py:3343: DtypeWarning: Columns (6,11,12,16,18,32,34,36,42,48,55,70,92,95,99,119,122,125,133,139,147,153,155,169,176,179,185,204,210,213,216,220,226,231,246,256,258,261,272,274,289,292,295,301,302,305,318,321,323,325,334,351,352) have mixed types.Specify dtype option on import or set low_memory=False.\n",
      "  exec(code_obj, self.user_global_ns, self.user_ns)\n"
     ]
    },
    {
     "data": {
      "application/vnd.jupyter.widget-view+json": {
       "model_id": "2fea60dea3e146a69a440369e9211e4f",
       "version_major": 2,
       "version_minor": 0
      },
      "text/plain": [
       "HBox(children=(FloatProgress(value=0.0, description='Summarize dataset', max=362.0, style=ProgressStyle(descri…"
      ]
     },
     "metadata": {},
     "output_type": "display_data"
    },
    {
     "name": "stdout",
     "output_type": "stream",
     "text": [
      "\n"
     ]
    },
    {
     "data": {
      "application/vnd.jupyter.widget-view+json": {
       "model_id": "f825ce3c226a405986c24e052908a5a7",
       "version_major": 2,
       "version_minor": 0
      },
      "text/plain": [
       "HBox(children=(FloatProgress(value=0.0, description='Render JSON', max=1.0, style=ProgressStyle(description_wi…"
      ]
     },
     "metadata": {},
     "output_type": "display_data"
    },
    {
     "name": "stdout",
     "output_type": "stream",
     "text": [
      "\n"
     ]
    },
    {
     "data": {
      "application/vnd.jupyter.widget-view+json": {
       "model_id": "4c13509721a54663bcf478f374698863",
       "version_major": 2,
       "version_minor": 0
      },
      "text/plain": [
       "HBox(children=(FloatProgress(value=0.0, description='Export report to file', max=1.0, style=ProgressStyle(desc…"
      ]
     },
     "metadata": {},
     "output_type": "display_data"
    },
    {
     "name": "stdout",
     "output_type": "stream",
     "text": [
      "\n"
     ]
    },
    {
     "data": {
      "application/vnd.jupyter.widget-view+json": {
       "model_id": "4dbb2e2d9dd64b72a5c2ad7306c7336c",
       "version_major": 2,
       "version_minor": 0
      },
      "text/plain": [
       "HBox(children=(FloatProgress(value=0.0, description='Summarize dataset', max=143.0, style=ProgressStyle(descri…"
      ]
     },
     "metadata": {},
     "output_type": "display_data"
    },
    {
     "name": "stdout",
     "output_type": "stream",
     "text": [
      "\n"
     ]
    },
    {
     "data": {
      "application/vnd.jupyter.widget-view+json": {
       "model_id": "5f8241062910419a9147d24ef053c07b",
       "version_major": 2,
       "version_minor": 0
      },
      "text/plain": [
       "HBox(children=(FloatProgress(value=0.0, description='Render JSON', max=1.0, style=ProgressStyle(description_wi…"
      ]
     },
     "metadata": {},
     "output_type": "display_data"
    },
    {
     "name": "stdout",
     "output_type": "stream",
     "text": [
      "\n"
     ]
    },
    {
     "data": {
      "application/vnd.jupyter.widget-view+json": {
       "model_id": "ab895c7528af44f8b3a5143bc35f816f",
       "version_major": 2,
       "version_minor": 0
      },
      "text/plain": [
       "HBox(children=(FloatProgress(value=0.0, description='Export report to file', max=1.0, style=ProgressStyle(desc…"
      ]
     },
     "metadata": {},
     "output_type": "display_data"
    },
    {
     "name": "stdout",
     "output_type": "stream",
     "text": [
      "\n"
     ]
    },
    {
     "name": "stderr",
     "output_type": "stream",
     "text": [
      "/home/pablo/.local/lib/python3.6/site-packages/IPython/core/interactiveshell.py:3343: DtypeWarning: Columns (0,1,2,3,4,5,6,7,8,10,11,12,13,15,16,17,18,19,20,21,23,25,26,30,31,32,33,34,35,36,37,39,41,42,43,45,46,47,48,49,51,52,53,55,57,58,59,60,61,62,65,66,67,68,69,73,74,76,78,81,82,83,84,85,90,91,93,94,96,97,98,100,101,102,103,105,106,107,108,109,110,111,112,115,116,117,118,119,120,122,123,125,126,128,129,130,133,135,139,140,141,142,143,144,145,147,148,149,151,152,156,158,159,160,161,162,163,164,165,166,171,172,174,175,176,180,181,182,183,184,185,187,191,192,193,195,196,197,200,201,202,206,209,213,214,217,220,221,222,223,224,225,227,231,233,234,235,236,237,239,240,241,242,245,246,247,248,249,251,252,255,256,257,259,260,261,262,263,265,266,267,270,271,272,274,276,277,278,279,280,281,282,283,285,286,287,288,289,291,292,295,298,300,301,302,303,307,309,310,313,317,318,319,320,322,325,326,328,329,331,332,336,337,338,339,340,341,342,346,347,348,349,351,352,353,354,355,356,357,359,361,362,364,365,366,371,372,373,374,376,377,380,381,382,383,384,385,387,388,390,392,393,394,395,396,397,398,399,401,404,407,410,411,416,418,419,420,421,423,424,425,428,429,430,433,434,435,438,439,441,442,443,446,447,450,451,452,453,454,455,456,458,459,460,461,462,464,467,469,470,477,478,483,484,489,492,493,497,498,499,500,501,502,503,504,505,507,508,509,511,512,513,514,515,516,518,519,520,521,522,523,526,527,528,529,531,532,534,535,536,539,542,543,544,545,547,548,549,550,551,552,553,555,557,559,560,561,564,566,567,568,570,571,572,573,574,575,576,577,578,579,582,583,585,586,587,588,597,599,602,603,606,607,608,609,610,611,613,614,616,617,619,620,621,623,624,625,628,631,634,635,636,637,638,639,640,641,644,645,646,647,648,649,650,651,652,655,657,658,661,663,665,668,669,670,671,675,677,678,679,680,683,684,685,687,688,689,690,691,692,693,695,696,697,698,700,702,704,706,710,711,712,713,714,715,717,719,720,722,723,727,728,729,730,731,732,733,734,735,737,740,741,742,744,746,747,750,751,753,754,760,762,763,766,768,769,770,773,777,779,781,782,785,786,788,789,790,791,792,795,796,798,799,802,803,805,808,812,813,819,820,821,824,825,827,828,829,830,831,832,836,837,838,839,840,842,843,844,845,847,848,849,852,857,858,859,860,861,863,864,866,870,871,872,873,874,875,877,878,879,881,882) have mixed types.Specify dtype option on import or set low_memory=False.\n",
      "  exec(code_obj, self.user_global_ns, self.user_ns)\n"
     ]
    },
    {
     "data": {
      "application/vnd.jupyter.widget-view+json": {
       "model_id": "705153e26ae24536b98ecbfbd0a4b9aa",
       "version_major": 2,
       "version_minor": 0
      },
      "text/plain": [
       "HBox(children=(FloatProgress(value=0.0, description='Summarize dataset', max=892.0, style=ProgressStyle(descri…"
      ]
     },
     "metadata": {},
     "output_type": "display_data"
    },
    {
     "name": "stdout",
     "output_type": "stream",
     "text": [
      "\n"
     ]
    },
    {
     "data": {
      "application/vnd.jupyter.widget-view+json": {
       "model_id": "e4b3643fa7254df0aa5719241e16a07e",
       "version_major": 2,
       "version_minor": 0
      },
      "text/plain": [
       "HBox(children=(FloatProgress(value=0.0, description='Render JSON', max=1.0, style=ProgressStyle(description_wi…"
      ]
     },
     "metadata": {},
     "output_type": "display_data"
    },
    {
     "name": "stdout",
     "output_type": "stream",
     "text": [
      "\n"
     ]
    },
    {
     "data": {
      "application/vnd.jupyter.widget-view+json": {
       "model_id": "509051108f6a4048b28c04dde8bdeea3",
       "version_major": 2,
       "version_minor": 0
      },
      "text/plain": [
       "HBox(children=(FloatProgress(value=0.0, description='Export report to file', max=1.0, style=ProgressStyle(desc…"
      ]
     },
     "metadata": {},
     "output_type": "display_data"
    },
    {
     "name": "stdout",
     "output_type": "stream",
     "text": [
      "\n"
     ]
    },
    {
     "data": {
      "application/vnd.jupyter.widget-view+json": {
       "model_id": "ea0cb35b6d7c4c5e803ea65db67b2864",
       "version_major": 2,
       "version_minor": 0
      },
      "text/plain": [
       "HBox(children=(FloatProgress(value=0.0, description='Summarize dataset', max=15.0, style=ProgressStyle(descrip…"
      ]
     },
     "metadata": {},
     "output_type": "display_data"
    },
    {
     "name": "stdout",
     "output_type": "stream",
     "text": [
      "\n"
     ]
    },
    {
     "data": {
      "application/vnd.jupyter.widget-view+json": {
       "model_id": "7bd181b97fd24b23a70ff11187cc9c7d",
       "version_major": 2,
       "version_minor": 0
      },
      "text/plain": [
       "HBox(children=(FloatProgress(value=0.0, description='Render JSON', max=1.0, style=ProgressStyle(description_wi…"
      ]
     },
     "metadata": {},
     "output_type": "display_data"
    },
    {
     "name": "stdout",
     "output_type": "stream",
     "text": [
      "\n"
     ]
    },
    {
     "data": {
      "application/vnd.jupyter.widget-view+json": {
       "model_id": "9d1c7bb608a4405786e31344aa37f867",
       "version_major": 2,
       "version_minor": 0
      },
      "text/plain": [
       "HBox(children=(FloatProgress(value=0.0, description='Export report to file', max=1.0, style=ProgressStyle(desc…"
      ]
     },
     "metadata": {},
     "output_type": "display_data"
    },
    {
     "name": "stdout",
     "output_type": "stream",
     "text": [
      "\n"
     ]
    },
    {
     "data": {
      "application/vnd.jupyter.widget-view+json": {
       "model_id": "22e598579de04bb6b1e8cab2e732680e",
       "version_major": 2,
       "version_minor": 0
      },
      "text/plain": [
       "HBox(children=(FloatProgress(value=0.0, description='Summarize dataset', max=202.0, style=ProgressStyle(descri…"
      ]
     },
     "metadata": {},
     "output_type": "display_data"
    },
    {
     "name": "stdout",
     "output_type": "stream",
     "text": [
      "\n"
     ]
    },
    {
     "data": {
      "application/vnd.jupyter.widget-view+json": {
       "model_id": "8782ded6de464b18b8ed78eec633626d",
       "version_major": 2,
       "version_minor": 0
      },
      "text/plain": [
       "HBox(children=(FloatProgress(value=0.0, description='Render JSON', max=1.0, style=ProgressStyle(description_wi…"
      ]
     },
     "metadata": {},
     "output_type": "display_data"
    },
    {
     "name": "stdout",
     "output_type": "stream",
     "text": [
      "\n"
     ]
    },
    {
     "data": {
      "application/vnd.jupyter.widget-view+json": {
       "model_id": "7d7f7e2c844b471da4d81a871ebed07f",
       "version_major": 2,
       "version_minor": 0
      },
      "text/plain": [
       "HBox(children=(FloatProgress(value=0.0, description='Export report to file', max=1.0, style=ProgressStyle(desc…"
      ]
     },
     "metadata": {},
     "output_type": "display_data"
    },
    {
     "name": "stdout",
     "output_type": "stream",
     "text": [
      "\n"
     ]
    },
    {
     "data": {
      "application/vnd.jupyter.widget-view+json": {
       "model_id": "d269c20d789043fc9283e549ad5dd30b",
       "version_major": 2,
       "version_minor": 0
      },
      "text/plain": [
       "HBox(children=(FloatProgress(value=0.0, description='Summarize dataset', max=99.0, style=ProgressStyle(descrip…"
      ]
     },
     "metadata": {},
     "output_type": "display_data"
    },
    {
     "name": "stdout",
     "output_type": "stream",
     "text": [
      "\n"
     ]
    },
    {
     "data": {
      "application/vnd.jupyter.widget-view+json": {
       "model_id": "4dbb98bd05d64101bd58ec55f3ead4df",
       "version_major": 2,
       "version_minor": 0
      },
      "text/plain": [
       "HBox(children=(FloatProgress(value=0.0, description='Render JSON', max=1.0, style=ProgressStyle(description_wi…"
      ]
     },
     "metadata": {},
     "output_type": "display_data"
    },
    {
     "name": "stdout",
     "output_type": "stream",
     "text": [
      "\n"
     ]
    },
    {
     "data": {
      "application/vnd.jupyter.widget-view+json": {
       "model_id": "6f8a7ed80f11455faa0174a1158749ed",
       "version_major": 2,
       "version_minor": 0
      },
      "text/plain": [
       "HBox(children=(FloatProgress(value=0.0, description='Export report to file', max=1.0, style=ProgressStyle(desc…"
      ]
     },
     "metadata": {},
     "output_type": "display_data"
    },
    {
     "name": "stdout",
     "output_type": "stream",
     "text": [
      "\n"
     ]
    },
    {
     "data": {
      "application/vnd.jupyter.widget-view+json": {
       "model_id": "201b52e6c89d4e45953b96e54f6be033",
       "version_major": 2,
       "version_minor": 0
      },
      "text/plain": [
       "HBox(children=(FloatProgress(value=0.0, description='Summarize dataset', style=ProgressStyle(description_width…"
      ]
     },
     "metadata": {},
     "output_type": "display_data"
    },
    {
     "name": "stdout",
     "output_type": "stream",
     "text": [
      "\n"
     ]
    },
    {
     "data": {
      "application/vnd.jupyter.widget-view+json": {
       "model_id": "a1cbf83d0b344d4da16f3d332bdfd937",
       "version_major": 2,
       "version_minor": 0
      },
      "text/plain": [
       "HBox(children=(FloatProgress(value=0.0, description='Render JSON', max=1.0, style=ProgressStyle(description_wi…"
      ]
     },
     "metadata": {},
     "output_type": "display_data"
    },
    {
     "name": "stdout",
     "output_type": "stream",
     "text": [
      "\n"
     ]
    },
    {
     "data": {
      "application/vnd.jupyter.widget-view+json": {
       "model_id": "ad7d7e3ab1f54d09883ba36f36760be3",
       "version_major": 2,
       "version_minor": 0
      },
      "text/plain": [
       "HBox(children=(FloatProgress(value=0.0, description='Export report to file', max=1.0, style=ProgressStyle(desc…"
      ]
     },
     "metadata": {},
     "output_type": "display_data"
    },
    {
     "name": "stdout",
     "output_type": "stream",
     "text": [
      "\n"
     ]
    },
    {
     "data": {
      "application/vnd.jupyter.widget-view+json": {
       "model_id": "03cd4615ba764fc1aaa0d710f2d76642",
       "version_major": 2,
       "version_minor": 0
      },
      "text/plain": [
       "HBox(children=(FloatProgress(value=0.0, description='Summarize dataset', max=98.0, style=ProgressStyle(descrip…"
      ]
     },
     "metadata": {},
     "output_type": "display_data"
    },
    {
     "name": "stdout",
     "output_type": "stream",
     "text": [
      "\n"
     ]
    },
    {
     "data": {
      "application/vnd.jupyter.widget-view+json": {
       "model_id": "9a6d44551ff6473f84376f63ddf82a16",
       "version_major": 2,
       "version_minor": 0
      },
      "text/plain": [
       "HBox(children=(FloatProgress(value=0.0, description='Render JSON', max=1.0, style=ProgressStyle(description_wi…"
      ]
     },
     "metadata": {},
     "output_type": "display_data"
    },
    {
     "name": "stdout",
     "output_type": "stream",
     "text": [
      "\n"
     ]
    },
    {
     "data": {
      "application/vnd.jupyter.widget-view+json": {
       "model_id": "a474bd15c4a04480a1bd02a60c111ad2",
       "version_major": 2,
       "version_minor": 0
      },
      "text/plain": [
       "HBox(children=(FloatProgress(value=0.0, description='Export report to file', max=1.0, style=ProgressStyle(desc…"
      ]
     },
     "metadata": {},
     "output_type": "display_data"
    },
    {
     "name": "stdout",
     "output_type": "stream",
     "text": [
      "\n"
     ]
    },
    {
     "data": {
      "application/vnd.jupyter.widget-view+json": {
       "model_id": "539b3c69dd31451f9e01c9e76b559d2b",
       "version_major": 2,
       "version_minor": 0
      },
      "text/plain": [
       "HBox(children=(FloatProgress(value=0.0, description='Summarize dataset', max=95.0, style=ProgressStyle(descrip…"
      ]
     },
     "metadata": {},
     "output_type": "display_data"
    },
    {
     "name": "stdout",
     "output_type": "stream",
     "text": [
      "\n"
     ]
    },
    {
     "data": {
      "application/vnd.jupyter.widget-view+json": {
       "model_id": "679600171df34347ae10a80b68314512",
       "version_major": 2,
       "version_minor": 0
      },
      "text/plain": [
       "HBox(children=(FloatProgress(value=0.0, description='Render JSON', max=1.0, style=ProgressStyle(description_wi…"
      ]
     },
     "metadata": {},
     "output_type": "display_data"
    },
    {
     "name": "stdout",
     "output_type": "stream",
     "text": [
      "\n"
     ]
    },
    {
     "data": {
      "application/vnd.jupyter.widget-view+json": {
       "model_id": "33c145d747ea40259888b36871f823df",
       "version_major": 2,
       "version_minor": 0
      },
      "text/plain": [
       "HBox(children=(FloatProgress(value=0.0, description='Export report to file', max=1.0, style=ProgressStyle(desc…"
      ]
     },
     "metadata": {},
     "output_type": "display_data"
    },
    {
     "name": "stdout",
     "output_type": "stream",
     "text": [
      "\n"
     ]
    },
    {
     "data": {
      "application/vnd.jupyter.widget-view+json": {
       "model_id": "f2edebf839f246deb98bbcf55333451c",
       "version_major": 2,
       "version_minor": 0
      },
      "text/plain": [
       "HBox(children=(FloatProgress(value=0.0, description='Summarize dataset', max=220.0, style=ProgressStyle(descri…"
      ]
     },
     "metadata": {},
     "output_type": "display_data"
    },
    {
     "name": "stdout",
     "output_type": "stream",
     "text": [
      "\n"
     ]
    },
    {
     "data": {
      "application/vnd.jupyter.widget-view+json": {
       "model_id": "3f85ea1c48f44c46b74bc60cc5a6fa25",
       "version_major": 2,
       "version_minor": 0
      },
      "text/plain": [
       "HBox(children=(FloatProgress(value=0.0, description='Render JSON', max=1.0, style=ProgressStyle(description_wi…"
      ]
     },
     "metadata": {},
     "output_type": "display_data"
    },
    {
     "name": "stdout",
     "output_type": "stream",
     "text": [
      "\n"
     ]
    },
    {
     "data": {
      "application/vnd.jupyter.widget-view+json": {
       "model_id": "31bd227323f944e9becd00970e7d625c",
       "version_major": 2,
       "version_minor": 0
      },
      "text/plain": [
       "HBox(children=(FloatProgress(value=0.0, description='Export report to file', max=1.0, style=ProgressStyle(desc…"
      ]
     },
     "metadata": {},
     "output_type": "display_data"
    },
    {
     "name": "stdout",
     "output_type": "stream",
     "text": [
      "\n"
     ]
    },
    {
     "data": {
      "application/vnd.jupyter.widget-view+json": {
       "model_id": "85d68d441f0b4364b9ed8cb0a3bbd5e5",
       "version_major": 2,
       "version_minor": 0
      },
      "text/plain": [
       "HBox(children=(FloatProgress(value=0.0, description='Summarize dataset', max=161.0, style=ProgressStyle(descri…"
      ]
     },
     "metadata": {},
     "output_type": "display_data"
    },
    {
     "name": "stdout",
     "output_type": "stream",
     "text": [
      "\n"
     ]
    },
    {
     "data": {
      "application/vnd.jupyter.widget-view+json": {
       "model_id": "7df76b2e65e04653ae2eed3e3f6c16ce",
       "version_major": 2,
       "version_minor": 0
      },
      "text/plain": [
       "HBox(children=(FloatProgress(value=0.0, description='Render JSON', max=1.0, style=ProgressStyle(description_wi…"
      ]
     },
     "metadata": {},
     "output_type": "display_data"
    },
    {
     "name": "stdout",
     "output_type": "stream",
     "text": [
      "\n"
     ]
    },
    {
     "data": {
      "application/vnd.jupyter.widget-view+json": {
       "model_id": "73c16eb5204a439bb90f092cc519bf8b",
       "version_major": 2,
       "version_minor": 0
      },
      "text/plain": [
       "HBox(children=(FloatProgress(value=0.0, description='Export report to file', max=1.0, style=ProgressStyle(desc…"
      ]
     },
     "metadata": {},
     "output_type": "display_data"
    },
    {
     "name": "stdout",
     "output_type": "stream",
     "text": [
      "\n"
     ]
    },
    {
     "data": {
      "application/vnd.jupyter.widget-view+json": {
       "model_id": "9672c442a5824ce48571402c024fc65c",
       "version_major": 2,
       "version_minor": 0
      },
      "text/plain": [
       "HBox(children=(FloatProgress(value=0.0, description='Summarize dataset', max=161.0, style=ProgressStyle(descri…"
      ]
     },
     "metadata": {},
     "output_type": "display_data"
    },
    {
     "name": "stdout",
     "output_type": "stream",
     "text": [
      "\n"
     ]
    },
    {
     "data": {
      "application/vnd.jupyter.widget-view+json": {
       "model_id": "56d892941f9b4b2685c48fe237a844fa",
       "version_major": 2,
       "version_minor": 0
      },
      "text/plain": [
       "HBox(children=(FloatProgress(value=0.0, description='Render JSON', max=1.0, style=ProgressStyle(description_wi…"
      ]
     },
     "metadata": {},
     "output_type": "display_data"
    },
    {
     "name": "stdout",
     "output_type": "stream",
     "text": [
      "\n"
     ]
    },
    {
     "data": {
      "application/vnd.jupyter.widget-view+json": {
       "model_id": "70cfc133fd4b47a7a58ca1b854b48590",
       "version_major": 2,
       "version_minor": 0
      },
      "text/plain": [
       "HBox(children=(FloatProgress(value=0.0, description='Export report to file', max=1.0, style=ProgressStyle(desc…"
      ]
     },
     "metadata": {},
     "output_type": "display_data"
    },
    {
     "name": "stdout",
     "output_type": "stream",
     "text": [
      "\n"
     ]
    },
    {
     "data": {
      "application/vnd.jupyter.widget-view+json": {
       "model_id": "a2e8fa8e993b40f2a7cae94ec906d8b3",
       "version_major": 2,
       "version_minor": 0
      },
      "text/plain": [
       "HBox(children=(FloatProgress(value=0.0, description='Summarize dataset', max=88.0, style=ProgressStyle(descrip…"
      ]
     },
     "metadata": {},
     "output_type": "display_data"
    },
    {
     "name": "stdout",
     "output_type": "stream",
     "text": [
      "\n"
     ]
    },
    {
     "data": {
      "application/vnd.jupyter.widget-view+json": {
       "model_id": "469483d393b54950b2b2638abc1c88f4",
       "version_major": 2,
       "version_minor": 0
      },
      "text/plain": [
       "HBox(children=(FloatProgress(value=0.0, description='Render JSON', max=1.0, style=ProgressStyle(description_wi…"
      ]
     },
     "metadata": {},
     "output_type": "display_data"
    },
    {
     "name": "stdout",
     "output_type": "stream",
     "text": [
      "\n"
     ]
    },
    {
     "data": {
      "application/vnd.jupyter.widget-view+json": {
       "model_id": "bf195a52c42a4a97a77a39e62c958b50",
       "version_major": 2,
       "version_minor": 0
      },
      "text/plain": [
       "HBox(children=(FloatProgress(value=0.0, description='Export report to file', max=1.0, style=ProgressStyle(desc…"
      ]
     },
     "metadata": {},
     "output_type": "display_data"
    },
    {
     "name": "stdout",
     "output_type": "stream",
     "text": [
      "\n"
     ]
    },
    {
     "data": {
      "application/vnd.jupyter.widget-view+json": {
       "model_id": "b444c424bb184f9a93360c397b0340b1",
       "version_major": 2,
       "version_minor": 0
      },
      "text/plain": [
       "HBox(children=(FloatProgress(value=0.0, description='Summarize dataset', max=171.0, style=ProgressStyle(descri…"
      ]
     },
     "metadata": {},
     "output_type": "display_data"
    },
    {
     "name": "stdout",
     "output_type": "stream",
     "text": [
      "\n"
     ]
    },
    {
     "data": {
      "application/vnd.jupyter.widget-view+json": {
       "model_id": "810f0c9bf4f2430aa94c1bf072654747",
       "version_major": 2,
       "version_minor": 0
      },
      "text/plain": [
       "HBox(children=(FloatProgress(value=0.0, description='Render JSON', max=1.0, style=ProgressStyle(description_wi…"
      ]
     },
     "metadata": {},
     "output_type": "display_data"
    },
    {
     "name": "stdout",
     "output_type": "stream",
     "text": [
      "\n"
     ]
    },
    {
     "data": {
      "application/vnd.jupyter.widget-view+json": {
       "model_id": "ad9406a8ebbd4c2882dee48b9bd9f60d",
       "version_major": 2,
       "version_minor": 0
      },
      "text/plain": [
       "HBox(children=(FloatProgress(value=0.0, description='Export report to file', max=1.0, style=ProgressStyle(desc…"
      ]
     },
     "metadata": {},
     "output_type": "display_data"
    },
    {
     "name": "stdout",
     "output_type": "stream",
     "text": [
      "\n"
     ]
    },
    {
     "data": {
      "application/vnd.jupyter.widget-view+json": {
       "model_id": "5f9d98a70ae842649e69d329bdf3e580",
       "version_major": 2,
       "version_minor": 0
      },
      "text/plain": [
       "HBox(children=(FloatProgress(value=0.0, description='Summarize dataset', max=110.0, style=ProgressStyle(descri…"
      ]
     },
     "metadata": {},
     "output_type": "display_data"
    },
    {
     "name": "stdout",
     "output_type": "stream",
     "text": [
      "\n"
     ]
    },
    {
     "data": {
      "application/vnd.jupyter.widget-view+json": {
       "model_id": "d88248f7ccf54beab53772a714e2f95c",
       "version_major": 2,
       "version_minor": 0
      },
      "text/plain": [
       "HBox(children=(FloatProgress(value=0.0, description='Render JSON', max=1.0, style=ProgressStyle(description_wi…"
      ]
     },
     "metadata": {},
     "output_type": "display_data"
    },
    {
     "name": "stdout",
     "output_type": "stream",
     "text": [
      "\n"
     ]
    },
    {
     "data": {
      "application/vnd.jupyter.widget-view+json": {
       "model_id": "7aabefc055df4562b42dca4ac8262bfd",
       "version_major": 2,
       "version_minor": 0
      },
      "text/plain": [
       "HBox(children=(FloatProgress(value=0.0, description='Export report to file', max=1.0, style=ProgressStyle(desc…"
      ]
     },
     "metadata": {},
     "output_type": "display_data"
    },
    {
     "name": "stdout",
     "output_type": "stream",
     "text": [
      "\n"
     ]
    },
    {
     "data": {
      "application/vnd.jupyter.widget-view+json": {
       "model_id": "434aba1e4f7941598c7d27073989da4c",
       "version_major": 2,
       "version_minor": 0
      },
      "text/plain": [
       "HBox(children=(FloatProgress(value=0.0, description='Summarize dataset', max=64.0, style=ProgressStyle(descrip…"
      ]
     },
     "metadata": {},
     "output_type": "display_data"
    },
    {
     "name": "stdout",
     "output_type": "stream",
     "text": [
      "\n"
     ]
    },
    {
     "data": {
      "application/vnd.jupyter.widget-view+json": {
       "model_id": "2b8bf0394d1a47cd8f770a44df83c83f",
       "version_major": 2,
       "version_minor": 0
      },
      "text/plain": [
       "HBox(children=(FloatProgress(value=0.0, description='Render JSON', max=1.0, style=ProgressStyle(description_wi…"
      ]
     },
     "metadata": {},
     "output_type": "display_data"
    },
    {
     "name": "stdout",
     "output_type": "stream",
     "text": [
      "\n"
     ]
    },
    {
     "data": {
      "application/vnd.jupyter.widget-view+json": {
       "model_id": "fb8f990cabc744c9a8cf0d27619e7a02",
       "version_major": 2,
       "version_minor": 0
      },
      "text/plain": [
       "HBox(children=(FloatProgress(value=0.0, description='Export report to file', max=1.0, style=ProgressStyle(desc…"
      ]
     },
     "metadata": {},
     "output_type": "display_data"
    },
    {
     "name": "stdout",
     "output_type": "stream",
     "text": [
      "\n"
     ]
    },
    {
     "data": {
      "application/vnd.jupyter.widget-view+json": {
       "model_id": "a91f9af0ce9f43d791c9dbb7d3f309ec",
       "version_major": 2,
       "version_minor": 0
      },
      "text/plain": [
       "HBox(children=(FloatProgress(value=0.0, description='Summarize dataset', max=82.0, style=ProgressStyle(descrip…"
      ]
     },
     "metadata": {},
     "output_type": "display_data"
    },
    {
     "name": "stdout",
     "output_type": "stream",
     "text": [
      "\n"
     ]
    },
    {
     "data": {
      "application/vnd.jupyter.widget-view+json": {
       "model_id": "e4e85924985e4421b8574c994e14ce0d",
       "version_major": 2,
       "version_minor": 0
      },
      "text/plain": [
       "HBox(children=(FloatProgress(value=0.0, description='Render JSON', max=1.0, style=ProgressStyle(description_wi…"
      ]
     },
     "metadata": {},
     "output_type": "display_data"
    },
    {
     "name": "stdout",
     "output_type": "stream",
     "text": [
      "\n"
     ]
    },
    {
     "data": {
      "application/vnd.jupyter.widget-view+json": {
       "model_id": "37a234710a7e4f6bac63c1e83ba07869",
       "version_major": 2,
       "version_minor": 0
      },
      "text/plain": [
       "HBox(children=(FloatProgress(value=0.0, description='Export report to file', max=1.0, style=ProgressStyle(desc…"
      ]
     },
     "metadata": {},
     "output_type": "display_data"
    },
    {
     "name": "stdout",
     "output_type": "stream",
     "text": [
      "\n"
     ]
    },
    {
     "data": {
      "application/vnd.jupyter.widget-view+json": {
       "model_id": "46a3a0df0268432fb6c452692f078b01",
       "version_major": 2,
       "version_minor": 0
      },
      "text/plain": [
       "HBox(children=(FloatProgress(value=0.0, description='Summarize dataset', max=60.0, style=ProgressStyle(descrip…"
      ]
     },
     "metadata": {},
     "output_type": "display_data"
    },
    {
     "name": "stdout",
     "output_type": "stream",
     "text": [
      "\n"
     ]
    },
    {
     "data": {
      "application/vnd.jupyter.widget-view+json": {
       "model_id": "7009db77a90746d6b4d513adb6edf416",
       "version_major": 2,
       "version_minor": 0
      },
      "text/plain": [
       "HBox(children=(FloatProgress(value=0.0, description='Render JSON', max=1.0, style=ProgressStyle(description_wi…"
      ]
     },
     "metadata": {},
     "output_type": "display_data"
    },
    {
     "name": "stdout",
     "output_type": "stream",
     "text": [
      "\n"
     ]
    },
    {
     "data": {
      "application/vnd.jupyter.widget-view+json": {
       "model_id": "e596063581dc489f92174744144a1fc0",
       "version_major": 2,
       "version_minor": 0
      },
      "text/plain": [
       "HBox(children=(FloatProgress(value=0.0, description='Export report to file', max=1.0, style=ProgressStyle(desc…"
      ]
     },
     "metadata": {},
     "output_type": "display_data"
    },
    {
     "name": "stdout",
     "output_type": "stream",
     "text": [
      "\n"
     ]
    },
    {
     "data": {
      "application/vnd.jupyter.widget-view+json": {
       "model_id": "e8591405ddda45ddbd2af1357594b8d0",
       "version_major": 2,
       "version_minor": 0
      },
      "text/plain": [
       "HBox(children=(FloatProgress(value=0.0, description='Summarize dataset', max=219.0, style=ProgressStyle(descri…"
      ]
     },
     "metadata": {},
     "output_type": "display_data"
    },
    {
     "name": "stdout",
     "output_type": "stream",
     "text": [
      "\n"
     ]
    },
    {
     "data": {
      "application/vnd.jupyter.widget-view+json": {
       "model_id": "d74619a65b0d43f1b099614b72fd9a55",
       "version_major": 2,
       "version_minor": 0
      },
      "text/plain": [
       "HBox(children=(FloatProgress(value=0.0, description='Render JSON', max=1.0, style=ProgressStyle(description_wi…"
      ]
     },
     "metadata": {},
     "output_type": "display_data"
    },
    {
     "name": "stdout",
     "output_type": "stream",
     "text": [
      "\n"
     ]
    },
    {
     "data": {
      "application/vnd.jupyter.widget-view+json": {
       "model_id": "183b487a453e4a5489b4cbe6b552c916",
       "version_major": 2,
       "version_minor": 0
      },
      "text/plain": [
       "HBox(children=(FloatProgress(value=0.0, description='Export report to file', max=1.0, style=ProgressStyle(desc…"
      ]
     },
     "metadata": {},
     "output_type": "display_data"
    },
    {
     "name": "stdout",
     "output_type": "stream",
     "text": [
      "\n"
     ]
    },
    {
     "data": {
      "application/vnd.jupyter.widget-view+json": {
       "model_id": "17ba39c3c52544a1b7b46b1fcabd707f",
       "version_major": 2,
       "version_minor": 0
      },
      "text/plain": [
       "HBox(children=(FloatProgress(value=0.0, description='Summarize dataset', max=57.0, style=ProgressStyle(descrip…"
      ]
     },
     "metadata": {},
     "output_type": "display_data"
    },
    {
     "name": "stdout",
     "output_type": "stream",
     "text": [
      "\n"
     ]
    },
    {
     "data": {
      "application/vnd.jupyter.widget-view+json": {
       "model_id": "9b74775eff964fd09cdf40efb00b2a32",
       "version_major": 2,
       "version_minor": 0
      },
      "text/plain": [
       "HBox(children=(FloatProgress(value=0.0, description='Render JSON', max=1.0, style=ProgressStyle(description_wi…"
      ]
     },
     "metadata": {},
     "output_type": "display_data"
    },
    {
     "name": "stdout",
     "output_type": "stream",
     "text": [
      "\n"
     ]
    },
    {
     "data": {
      "application/vnd.jupyter.widget-view+json": {
       "model_id": "de720c6012d5443e9d7ceb14c97c2f71",
       "version_major": 2,
       "version_minor": 0
      },
      "text/plain": [
       "HBox(children=(FloatProgress(value=0.0, description='Export report to file', max=1.0, style=ProgressStyle(desc…"
      ]
     },
     "metadata": {},
     "output_type": "display_data"
    },
    {
     "name": "stdout",
     "output_type": "stream",
     "text": [
      "\n"
     ]
    },
    {
     "data": {
      "application/vnd.jupyter.widget-view+json": {
       "model_id": "4e68d3761e4a48ca9d92ba0f5460defc",
       "version_major": 2,
       "version_minor": 0
      },
      "text/plain": [
       "HBox(children=(FloatProgress(value=0.0, description='Summarize dataset', max=99.0, style=ProgressStyle(descrip…"
      ]
     },
     "metadata": {},
     "output_type": "display_data"
    },
    {
     "name": "stdout",
     "output_type": "stream",
     "text": [
      "\n"
     ]
    },
    {
     "data": {
      "application/vnd.jupyter.widget-view+json": {
       "model_id": "03a8190b35e440598515e6431afa94db",
       "version_major": 2,
       "version_minor": 0
      },
      "text/plain": [
       "HBox(children=(FloatProgress(value=0.0, description='Render JSON', max=1.0, style=ProgressStyle(description_wi…"
      ]
     },
     "metadata": {},
     "output_type": "display_data"
    },
    {
     "name": "stdout",
     "output_type": "stream",
     "text": [
      "\n"
     ]
    },
    {
     "data": {
      "application/vnd.jupyter.widget-view+json": {
       "model_id": "0c5a7b08ab6343928913f08b67f852ac",
       "version_major": 2,
       "version_minor": 0
      },
      "text/plain": [
       "HBox(children=(FloatProgress(value=0.0, description='Export report to file', max=1.0, style=ProgressStyle(desc…"
      ]
     },
     "metadata": {},
     "output_type": "display_data"
    },
    {
     "name": "stdout",
     "output_type": "stream",
     "text": [
      "\n"
     ]
    },
    {
     "data": {
      "application/vnd.jupyter.widget-view+json": {
       "model_id": "ac6cf857356445f28a80e8b01bf4f928",
       "version_major": 2,
       "version_minor": 0
      },
      "text/plain": [
       "HBox(children=(FloatProgress(value=0.0, description='Summarize dataset', max=102.0, style=ProgressStyle(descri…"
      ]
     },
     "metadata": {},
     "output_type": "display_data"
    },
    {
     "name": "stdout",
     "output_type": "stream",
     "text": [
      "\n"
     ]
    },
    {
     "data": {
      "application/vnd.jupyter.widget-view+json": {
       "model_id": "791f6999fb9e4233ad47963a283f8534",
       "version_major": 2,
       "version_minor": 0
      },
      "text/plain": [
       "HBox(children=(FloatProgress(value=0.0, description='Render JSON', max=1.0, style=ProgressStyle(description_wi…"
      ]
     },
     "metadata": {},
     "output_type": "display_data"
    },
    {
     "name": "stdout",
     "output_type": "stream",
     "text": [
      "\n"
     ]
    },
    {
     "data": {
      "application/vnd.jupyter.widget-view+json": {
       "model_id": "fa0ada36e4d8427290364616c5df6524",
       "version_major": 2,
       "version_minor": 0
      },
      "text/plain": [
       "HBox(children=(FloatProgress(value=0.0, description='Export report to file', max=1.0, style=ProgressStyle(desc…"
      ]
     },
     "metadata": {},
     "output_type": "display_data"
    },
    {
     "name": "stdout",
     "output_type": "stream",
     "text": [
      "\n"
     ]
    },
    {
     "data": {
      "application/vnd.jupyter.widget-view+json": {
       "model_id": "23b4b9d0f0ea477798a398137b7132cf",
       "version_major": 2,
       "version_minor": 0
      },
      "text/plain": [
       "HBox(children=(FloatProgress(value=0.0, description='Summarize dataset', max=209.0, style=ProgressStyle(descri…"
      ]
     },
     "metadata": {},
     "output_type": "display_data"
    },
    {
     "name": "stdout",
     "output_type": "stream",
     "text": [
      "\n"
     ]
    },
    {
     "data": {
      "application/vnd.jupyter.widget-view+json": {
       "model_id": "9833baea69374daeb1bdab52133ea923",
       "version_major": 2,
       "version_minor": 0
      },
      "text/plain": [
       "HBox(children=(FloatProgress(value=0.0, description='Render JSON', max=1.0, style=ProgressStyle(description_wi…"
      ]
     },
     "metadata": {},
     "output_type": "display_data"
    },
    {
     "name": "stdout",
     "output_type": "stream",
     "text": [
      "\n"
     ]
    },
    {
     "data": {
      "application/vnd.jupyter.widget-view+json": {
       "model_id": "8c089b8e39214d7e95e243a85ff762a3",
       "version_major": 2,
       "version_minor": 0
      },
      "text/plain": [
       "HBox(children=(FloatProgress(value=0.0, description='Export report to file', max=1.0, style=ProgressStyle(desc…"
      ]
     },
     "metadata": {},
     "output_type": "display_data"
    },
    {
     "name": "stdout",
     "output_type": "stream",
     "text": [
      "\n"
     ]
    }
   ],
   "source": [
    "dirs = get_dirs(\"./2013_monitor_specs/\")\n",
    "headers = get_headers(dirs)\n",
    "write_csv(dirs,headers)"
   ]
  },
  {
   "cell_type": "markdown",
   "metadata": {},
   "source": [
    "## Remove duplicates in mapping"
   ]
  },
  {
   "cell_type": "code",
   "execution_count": null,
   "metadata": {},
   "outputs": [],
   "source": [
    "csv_manual = pd.read_csv(\"./outputs/manual_mappings.csv\")\n",
    "csv_original = pd.read_csv(\"./outputs/original_mappings.csv\")\n",
    "columns_manual = csv_manual.columns\n",
    "columns_original = csv_original.columns\n",
    "print(str(\"# of original mappings {} \\n# of manual mappiings {}\").format(len(csv_original[columns_original[0]]),len(csv_manual[columns_manual[0]])))\n",
    "mappings_original = list([x[0]+\"-\"+x[1] for x in csv_original.values])\n",
    "csv_clean = list([x for x in list(csv_manual.values) if x[0]+\"-\"+x[1] not in mappings_original])    \n",
    "csv_dups = list([x for x in list(csv_manual.values) if x[0]+\"-\"+x[1] in mappings_original])    \n",
    "print(len(csv_clean))\n",
    "df = pd.DataFrame(csv_clean)\n",
    "df.to_csv(\"./outputs/clean_manual_appings.csv\", index=False, sep=\",\",header=[\"source\",\"target\"])"
   ]
  },
  {
   "cell_type": "markdown",
   "metadata": {},
   "source": [
    "## Get + and - pairs"
   ]
  },
  {
   "cell_type": "code",
   "execution_count": 10,
   "metadata": {},
   "outputs": [],
   "source": [
    "import itertools\n",
    "def generate_labelled_pairs(type_set,path):\n",
    "    csv_manual = pd.read_csv(path)\n",
    "    targets = {}\n",
    "    sources = {}\n",
    "    for row in csv_manual.values:\n",
    "        t = row[1]\n",
    "        s = row[0]\n",
    "        if t not in targets.keys():\n",
    "            targets[t] =[]\n",
    "        if s not in sources.keys():\n",
    "            sources[s] =[]\n",
    "        targets[t].append(s)\n",
    "        sources[s].append(t)\n",
    "\n",
    "    pos_set = []\n",
    "    pos_csv = []\n",
    "    for key in targets.keys():\n",
    "        pos_set = pos_set + list(itertools.combinations(targets[key],2))\n",
    "\n",
    "    for pair in pos_set:\n",
    "        pos_csv.append((pair[0],pair[1],1))\n",
    "\n",
    "    neg_set = []\n",
    "    processed = []\n",
    "#     if type_set == \"training\":\n",
    "    for source in sources.keys():\n",
    "        for target in targets.keys():\n",
    "            if target not in sources[source]:\n",
    "                for t in targets[target]:\n",
    "                    if t not in processed:\n",
    "                        neg_set.append((source,t,0))\n",
    "        processed.append(source)\n",
    "\n",
    "    label_set = neg_set + pos_csv         \n",
    "    df = pd.DataFrame(label_set)\n",
    "    df.to_csv(\"./outputs/\"+type_set+\".csv\", index=False, sep=\",\",header=[\"id1\",\"id2\",\"relation\"])\n",
    "\n",
    "generate_labelled_pairs(\"training\",\"./outputs/mapping_manual.csv\")\n",
    "generate_labelled_pairs(\"test\",\"./outputs/mapiing_original.csv\")"
   ]
  },
  {
   "cell_type": "code",
   "execution_count": 16,
   "metadata": {},
   "outputs": [],
   "source": [
    "import itertools\n",
    "def group(path):\n",
    "    csv_manual = pd.read_csv(path)\n",
    "    targets = {}\n",
    "    sources = {}\n",
    "    for row in csv_manual.values:\n",
    "        t = row[1]\n",
    "        s = row[0]\n",
    "        if t not in targets.keys():\n",
    "            targets[t] =[]\n",
    "        if s not in sources.keys():\n",
    "            sources[s] =[]\n",
    "        targets[t].append(s)\n",
    "        sources[s].append(t)\n",
    "        \n",
    "    return sources,targets\n",
    "\n",
    "def generate_pairs(s_manual,s_ori,t_manual,t_ori):\n",
    "    train_pos_set = []\n",
    "    train_pos_csv = []\n",
    "    for key in t_manual.keys():\n",
    "        train_pos_set = train_pos_set + list(itertools.combinations(t_manual[key],2))\n",
    "\n",
    "    for pair in train_pos_set:\n",
    "        train_pos_csv.append((pair[0],pair[1],1))\n",
    "\n",
    "    train_neg_set = []\n",
    "    processed = []\n",
    "\n",
    "    for source in s_manual.keys():\n",
    "        for target in t_manual.keys():\n",
    "            if target not in s_manual[source]:\n",
    "                for t in t_manual[target]:\n",
    "                    if t not in processed:\n",
    "                        train_neg_set.append((source,t,0))\n",
    "        processed.append(source)\n",
    "\n",
    "    train_label_set = train_neg_set + train_pos_csv         \n",
    "    df = pd.DataFrame(train_label_set)\n",
    "    df.to_csv(\"./outputs/monitor_train.csv\", index=False, sep=\",\",header=[\"id1\",\"id2\",\"relation\"])\n",
    "    \n",
    "    test_set = []\n",
    "    for test_source in s_ori.keys():\n",
    "        for train_source in s_manual.keys():\n",
    "            if set(s_ori[test_source]).isdisjoint(s_manual[train_source]):\n",
    "                test_set.append((train_source,test_source,0))\n",
    "            else:\n",
    "                test_set.append((train_source,test_source,1))\n",
    "                    \n",
    "    df = pd.DataFrame(test_set)\n",
    "    df.to_csv(\"./outputs/monitor_test.csv\", index=False, sep=\",\",header=[\"id1\",\"id2\",\"relation\"])\n",
    "                    \n",
    "s_manual,t_manual = group(\"./outputs/mapping_manual.csv\")\n",
    "s_ori,t_ori = group(\"./outputs/mapiing_original.csv\")\n",
    "generate_pairs(s_manual,s_ori,t_manual,t_ori)"
   ]
  },
  {
   "cell_type": "code",
   "execution_count": 27,
   "metadata": {},
   "outputs": [
    {
     "name": "stdout",
     "output_type": "stream",
     "text": [
      "['ca.pcpartpicker.com//hdmi' 'hdmi_port_quantity']\n",
      "['__ca.pcpartpicker.com//hdmi' 'has_hdmi_port']\n",
      "['www.best-deal-items.com//hd type' 'hd_type']\n",
      "['__www.best-deal-items.com//hd type' 'has_full_hd']\n",
      "['www.cleverboxes.com//usb ports' 'usb_port_quantity']\n",
      "['www.cleverboxes.com//usb ports' 'usb_port_version']\n",
      "['www.cleverboxes.com//usb ports' 'usb_port2_upstream_quantity']\n",
      "['__www.cleverboxes.com//usb ports' 'has_usb_port']\n",
      "['www.cleverboxes.com//dimensions' 'monitor_dimension_with_stand']\n",
      "['www.cleverboxes.com//dimensions' 'monitor_height_with_stand']\n",
      "['www.cleverboxes.com//dimensions' 'monitor_width_with_stand']\n",
      "['www.cleverboxes.com//dimensions' 'monitor_weight_with_stand']\n",
      "['www.cleverboxes.com//dimensions' 'monitor_depth_with_stand']\n",
      "['__www.cleverboxes.com//dimensions' 'monitor_depth']\n",
      "['www.cleverboxes.com//dimensions' 'monitor_dimension_with_stand']\n",
      "['www.cleverboxes.com//dimensions' 'monitor_height_with_stand']\n",
      "['www.cleverboxes.com//dimensions' 'monitor_width_with_stand']\n",
      "['www.cleverboxes.com//dimensions' 'monitor_weight_with_stand']\n",
      "['www.cleverboxes.com//dimensions' 'monitor_depth_with_stand']\n",
      "['__www.cleverboxes.com//dimensions' 'monitor_dimension']\n",
      "['www.cleverboxes.com//dimensions' 'monitor_dimension_with_stand']\n",
      "['www.cleverboxes.com//dimensions' 'monitor_height_with_stand']\n",
      "['www.cleverboxes.com//dimensions' 'monitor_width_with_stand']\n",
      "['www.cleverboxes.com//dimensions' 'monitor_weight_with_stand']\n",
      "['www.cleverboxes.com//dimensions' 'monitor_depth_with_stand']\n",
      "['__www.cleverboxes.com//dimensions' 'monitor_height']\n",
      "['www.cleverboxes.com//dimensions' 'monitor_dimension_with_stand']\n",
      "['www.cleverboxes.com//dimensions' 'monitor_height_with_stand']\n",
      "['www.cleverboxes.com//dimensions' 'monitor_width_with_stand']\n",
      "['www.cleverboxes.com//dimensions' 'monitor_weight_with_stand']\n",
      "['www.cleverboxes.com//dimensions' 'monitor_depth_with_stand']\n",
      "['__www.cleverboxes.com//dimensions' 'monitor_weight']\n",
      "['www.cleverboxes.com//dimensions' 'monitor_dimension_with_stand']\n",
      "['www.cleverboxes.com//dimensions' 'monitor_height_with_stand']\n",
      "['www.cleverboxes.com//dimensions' 'monitor_width_with_stand']\n",
      "['www.cleverboxes.com//dimensions' 'monitor_weight_with_stand']\n",
      "['www.cleverboxes.com//dimensions' 'monitor_depth_with_stand']\n",
      "['__www.cleverboxes.com//dimensions' 'monitor_width']\n",
      "['www.nexus-t.co.uk//displayports' 'displayport_quantity']\n",
      "['__www.nexus-t.co.uk//displayports' 'has_displayport']\n",
      "['www.nexus-t.co.uk//product name' 'brand']\n",
      "['www.nexus-t.co.uk//product name' 'color']\n",
      "['www.nexus-t.co.uk//product name' 'screen_size_diagonal']\n",
      "['www.nexus-t.co.uk//product name' 'response_time']\n",
      "['www.nexus-t.co.uk//product name' 'screen_type']\n",
      "['www.nexus-t.co.uk//product name' 'supported_resolution']\n",
      "['__www.nexus-t.co.uk//product name' 'has_displayport']\n",
      "['www.nexus-t.co.uk//product name' 'brand']\n",
      "['www.nexus-t.co.uk//product name' 'color']\n",
      "['www.nexus-t.co.uk//product name' 'screen_size_diagonal']\n",
      "['www.nexus-t.co.uk//product name' 'response_time']\n",
      "['www.nexus-t.co.uk//product name' 'screen_type']\n",
      "['www.nexus-t.co.uk//product name' 'supported_resolution']\n",
      "['__www.nexus-t.co.uk//product name' 'has_dvi_port']\n",
      "['www.nexus-t.co.uk//screen features' 'hd_type']\n",
      "['__www.nexus-t.co.uk//screen features' 'has_full_hd']\n",
      "['www.nexus-t.co.uk//product name' 'brand']\n",
      "['www.nexus-t.co.uk//product name' 'color']\n",
      "['www.nexus-t.co.uk//product name' 'screen_size_diagonal']\n",
      "['www.nexus-t.co.uk//product name' 'response_time']\n",
      "['www.nexus-t.co.uk//product name' 'screen_type']\n",
      "['www.nexus-t.co.uk//product name' 'supported_resolution']\n",
      "['__www.nexus-t.co.uk//product name' 'has_hdmi_port']\n",
      "['www.nexus-t.co.uk//product name' 'brand']\n",
      "['www.nexus-t.co.uk//product name' 'color']\n",
      "['www.nexus-t.co.uk//product name' 'screen_size_diagonal']\n",
      "['www.nexus-t.co.uk//product name' 'response_time']\n",
      "['www.nexus-t.co.uk//product name' 'screen_type']\n",
      "['www.nexus-t.co.uk//product name' 'supported_resolution']\n",
      "['__www.nexus-t.co.uk//product name' 'has_usb_port']\n",
      "['www.nexus-t.co.uk//product name' 'brand']\n",
      "['www.nexus-t.co.uk//product name' 'color']\n",
      "['www.nexus-t.co.uk//product name' 'screen_size_diagonal']\n",
      "['www.nexus-t.co.uk//product name' 'response_time']\n",
      "['www.nexus-t.co.uk//product name' 'screen_type']\n",
      "['www.nexus-t.co.uk//product name' 'supported_resolution']\n",
      "['__www.nexus-t.co.uk//product name' 'has_vga_port']\n",
      "['www.planet-computer.it//condizioni ambientali'\n",
      " 'operating_working_altitude']\n",
      "['www.planet-computer.it//condizioni ambientali' 'working_temperature_min']\n",
      "['www.planet-computer.it//condizioni ambientali'\n",
      " 'non_operating_working_altitude']\n",
      "['www.planet-computer.it//condizioni ambientali' 'working_temperature_max']\n",
      "['www.planet-computer.it//condizioni ambientali' 'working_humidity']\n",
      "['__www.planet-computer.it//condizioni ambientali'\n",
      " 'working_temperature_range']\n"
     ]
    }
   ],
   "source": [
    "csv_manual = pd.read_csv(\"./outputs/mapping_manual.csv\")\n",
    "csv_origin = pd.read_csv(\"./outputs/mapiing_original.csv\")\n",
    "\n",
    "dups = []\n",
    "\n",
    "for row_m in csv_manual.values:\n",
    "    duplicates = False\n",
    "    for row_o in csv_origin.values:\n",
    "        if row_m[0] == row_o[0]:\n",
    "            duplicates = True\n",
    "            dups.append(row_o)\n",
    "    if duplicates:\n",
    "        row_m[0] = \"__\"+row_m[0]\n",
    "        dups.append(row_m)\n",
    "        \n",
    "for d in dups:\n",
    "    print(d)"
   ]
  },
  {
   "cell_type": "markdown",
   "metadata": {},
   "source": [
    "## Exclude repetaed keys"
   ]
  },
  {
   "cell_type": "code",
   "execution_count": 26,
   "metadata": {},
   "outputs": [],
   "source": [
    "import itertools\n",
    "def group(path):\n",
    "    csv_manual = pd.read_csv(path)\n",
    "    targets = {}\n",
    "    sources = {}\n",
    "    for row in csv_manual.values:\n",
    "        t = row[1]\n",
    "        s = row[0]\n",
    "        if t not in targets.keys():\n",
    "            targets[t] =[]\n",
    "        if s not in sources.keys():\n",
    "            sources[s] =[]\n",
    "        targets[t].append(s)\n",
    "        sources[s].append(t)\n",
    "        \n",
    "    return sources,targets\n",
    "\n",
    "def generate_pairs(s_manual,s_ori,t_manual,t_ori):\n",
    "    train_pos_set = []\n",
    "    train_pos_csv = []\n",
    "    for key in t_manual.keys():\n",
    "        train_pos_set = train_pos_set + list(itertools.combinations(t_manual[key],2))\n",
    "\n",
    "    for pair in train_pos_set:\n",
    "        train_pos_csv.append((pair[0],pair[1],1))\n",
    "\n",
    "    train_neg_set = []\n",
    "    processed = []\n",
    "\n",
    "    for source in s_manual.keys():\n",
    "        for target in t_manual.keys():\n",
    "            if target not in s_manual[source]:\n",
    "                for t in t_manual[target]:\n",
    "                    if t not in processed:\n",
    "                        train_neg_set.append((source,t,0))\n",
    "        processed.append(source)\n",
    "\n",
    "    train_label_set = train_neg_set + train_pos_csv         \n",
    "    df = pd.DataFrame(train_label_set)\n",
    "    df.to_csv(\"./outputs/monitor_train.csv\", index=False, sep=\",\",header=[\"id1\",\"id2\",\"relation\"])\n",
    "    \n",
    "    test_set = []\n",
    "    for test_source in s_ori.keys():\n",
    "        if test_source in s_manual.keys():\n",
    "            continue\n",
    "        for train_source in s_manual.keys(): \n",
    "            if set(s_ori[test_source]).isdisjoint(s_manual[train_source]):\n",
    "                test_set.append((train_source,test_source,0))\n",
    "            else:\n",
    "                test_set.append((train_source,test_source,1))\n",
    "                    \n",
    "    df = pd.DataFrame(test_set)\n",
    "    df.to_csv(\"./outputs/monitor_test.csv\", index=False, sep=\",\",header=[\"id1\",\"id2\",\"relation\"])\n",
    "                    \n",
    "s_manual,t_manual = group(\"./outputs/mapping_manual.csv\")\n",
    "s_ori,t_ori = group(\"./outputs/mapiing_original.csv\")\n",
    "generate_pairs(s_manual,s_ori,t_manual,t_ori)"
   ]
  },
  {
   "cell_type": "markdown",
   "metadata": {},
   "source": [
    "## Extract metafeatures from files"
   ]
  },
  {
   "cell_type": "code",
   "execution_count": null,
   "metadata": {},
   "outputs": [],
   "source": [
    "import numpy as np\n",
    "import pandas as pd\n",
    "from pandas_profiling import ProfileReport\n",
    "import json\n",
    "\n",
    "#print(csv.describe())\n",
    "#print(csv.info())\n",
    "\n",
    "#get meta-features from files\n",
    "csv_pairs = pd.read_csv(\"./outputs/csv/ca.pcpartpicker.com/list.csv\",sep=\"|\")\n",
    "profile = ProfileReport(csv_pairs, minimal=True)\n",
    "\n",
    "json_data = profile.to_json()\n",
    "y = json.loads(json_data)\n",
    "print(json.dumps(y, indent=4, sort_keys=True))\n",
    "# print(\"Number of datasets \" + str(y[\"variables\"][\"'dataset1_id'\"][\"distinct_count_without_nan\"]))\n",
    "# print(\"Number of values per label \" + str(y[\"variables\"][\"'matching_topic'\"][\"value_counts\"]))\n",
    "# print(\"Total of pairs \" + str(y[\"table\"][\"n\"]))\n",
    "# print(\"Total of dubplicates \" + str(y[\"table\"][\"n_duplicates\"]))\n",
    "\n",
    "\n",
    "profile.to_file(\"your_report.json\")"
   ]
  },
  {
   "cell_type": "code",
   "execution_count": null,
   "metadata": {},
   "outputs": [],
   "source": [
    "import numpy as np\n",
    "import pandas as pd\n",
    "import json\n",
    "import networkx as nx\n",
    "import matplotlib.pyplot as plt\n",
    "from random import randrange\n",
    "\n",
    "def read_dataset(path,drop_columns=None,keep_columns=None):\n",
    "    #get rid of useless columns\n",
    "    csv_data = pd.read_csv(path)\n",
    "    \n",
    "    if keep_columns != None:\n",
    "        #keep only these columns\n",
    "        return csv_data.filter(items=keep_columns)\n",
    "    \n",
    "    if drop_columns!= None:\n",
    "        #drop these and keep the rest\n",
    "        return csv_data.drop(drop_columns, axis=1)\n",
    "    \n",
    "    #finally, didn't drop or filter any column\n",
    "    return csv_data     \n",
    "\n",
    "def plot_graph(g,ds_nodes=[],attribute_nodes=[],feat_nodes=[],lit_nodes=[]):\n",
    "    pos=nx.spring_layout(g)    \n",
    "    nx.draw_networkx_nodes(g,pos,nodelist=ds_nodes,node_color=\"blue\",node_size=900)\n",
    "    nx.draw_networkx_nodes(g,pos,nodelist=attribute_nodes,node_color=\"green\",node_size=900)\n",
    "    nx.draw_networkx_nodes(g,pos,nodelist=feat_nodes,node_color=\"grey\",node_size=900)\n",
    "    nx.draw_networkx_nodes(g,pos,nodelist=lit_nodes,node_color=\"red\",node_size=900)\n",
    "\n",
    "    nx.draw_networkx_edges(g,pos,width=3)\n",
    "    nx.draw_networkx_labels(g,pos,font_size=8)\n",
    "    plt.show() "
   ]
  },
  {
   "cell_type": "code",
   "execution_count": null,
   "metadata": {},
   "outputs": [],
   "source": []
  },
  {
   "cell_type": "markdown",
   "metadata": {},
   "source": [
    "## Graph  construction"
   ]
  },
  {
   "cell_type": "code",
   "execution_count": null,
   "metadata": {},
   "outputs": [],
   "source": [
    "def code_ds_id(data):\n",
    "    return \"DS_\"+data\n",
    "def code_attr_id(data,parent):\n",
    "    return data+\"|\"+parent\n",
    "def code_feat_id(data,parent):\n",
    "    return data+\"|\"+parent\n",
    "def code_literal_id(data,parent):\n",
    "    return \"literal_\"+data+\"|\"+parent"
   ]
  },
  {
   "cell_type": "code",
   "execution_count": null,
   "metadata": {},
   "outputs": [],
   "source": [
    "def graph_dataset(datasets,g=None,wem=\"fasttext\",instances=0):\n",
    "    if g == None:\n",
    "        g = nx.Graph()\n",
    "    \n",
    "    #create nodes and edges at datasetLevel\n",
    "    features = datasets.columns[1:]\n",
    "    \n",
    "    if instances==0:\n",
    "        number_instances = len(datasets)\n",
    "    else:\n",
    "        number_instances = instances\n",
    "    \n",
    "    for r in range(number_instances): \n",
    "        #node id is the openML id which is in the first column\n",
    "        dataset_id = code_ds_id(str(datasets.iloc[r][0]))\n",
    "        g.add_node(dataset_id,vector=word_embedding(\"dataset\",wem),tipo=\"dataset\")\n",
    "        row = datasets.iloc[r][1:]\n",
    "        \n",
    "        if instances == 0:\n",
    "            number_features = len(features)\n",
    "        else:\n",
    "            number_features = min(instances,len(features))\n",
    "            \n",
    "        for i in range (number_features):\n",
    "            feature_dataset_id = code_feat_id(features[i],dataset_id)\n",
    "            literal_dataset_id = code_literal_id(str(i),dataset_id)\n",
    "            g.add_node(feature_dataset_id,vector=word_embedding(\"feature dataset|\" +features[i] ,wem),tipo=\"feature dataset\")\n",
    "            g.add_node(literal_dataset_id,vector=word_embedding(row[i],wem),tipo=\"literal dataset\")\n",
    "            g.add_edge(dataset_id,feature_dataset_id)\n",
    "            g.add_edge(feature_dataset_id,literal_dataset_id)\n",
    "            \n",
    "    return g\n",
    "\n",
    "\n",
    "def graph_attribute(datasets,g=None,wem=\"fasttext\",instances=0):\n",
    "    if g == None:\n",
    "        g = nx.Graph()\n",
    "        \n",
    "    #create nodes and edges at datasetLevel\n",
    "    features = datasets.columns[2:]\n",
    "    \n",
    "    if instances==0:\n",
    "        number_instances = len(datasets)\n",
    "    else:\n",
    "        number_instances = min (instances,len(datasets))\n",
    "    \n",
    "    for r in range(number_instances): \n",
    "        #node id is the openML id which is in the first column\n",
    "        #attr name is the 2nd column\n",
    "        dataset_id = code_ds_id(str(datasets.iloc[r][0]))\n",
    "        attribute_id = code_attr_id(datasets.iloc[r][1],dataset_id)\n",
    "        row = datasets.iloc[r][2:]\n",
    "        \n",
    "        g.add_node(attribute_id,vector=word_embedding(\"attribute\",wem),tipo=\"attribute\")\n",
    "        \n",
    "        #relation of dataset and an attribute\n",
    "        g.add_edge(dataset_id,attribute_id)\n",
    "        \n",
    "        if instances == 0:\n",
    "            number_features = len(features)\n",
    "        else:\n",
    "            number_features = min (instances,len(features))\n",
    "            \n",
    "        for i in range (number_features):\n",
    "            feature_attribute_id = code_feat_id(features[i],attribute_id)\n",
    "            literal_dataset_id = code_literal_id(str(i),attribute_id)\n",
    "            g.add_node(feature_attribute_id,vector=word_embedding(\"feature attribute|\"+features[i],wem),tipo=\"feature attribute\")\n",
    "            g.add_node(literal_dataset_id,vector=word_embedding(row[i],wem),tipo=\"literal attribute\")\n",
    "            g.add_edge(attribute_id,feature_attribute_id)\n",
    "            g.add_edge(feature_attribute_id,literal_dataset_id)\n",
    "            \n",
    "    return g"
   ]
  },
  {
   "cell_type": "markdown",
   "metadata": {},
   "source": [
    "## Auxiliars"
   ]
  },
  {
   "cell_type": "markdown",
   "metadata": {},
   "source": [
    "### Check if input is number"
   ]
  },
  {
   "cell_type": "code",
   "execution_count": null,
   "metadata": {},
   "outputs": [],
   "source": [
    "def is_number(s):\n",
    "    #Returns True is string is a number.\n",
    "    try:\n",
    "        float(s)\n",
    "        return True\n",
    "    except ValueError:\n",
    "        return False"
   ]
  },
  {
   "cell_type": "markdown",
   "metadata": {},
   "source": [
    "### From numbers to bin tensor vector"
   ]
  },
  {
   "cell_type": "code",
   "execution_count": null,
   "metadata": {},
   "outputs": [],
   "source": [
    "from decimal import Decimal\n",
    "import bitstring\n",
    "def num2vec(num):\n",
    "    \n",
    "    rep_sc = str('{:.11E}'.format(num))\n",
    "    \n",
    "    dec_part = int(rep_sc.split(\"E\")[0].replace(\".\",\"\"))\n",
    "    c = 1\n",
    "    if dec_part <0:\n",
    "        c = -1\n",
    "    dec_part = abs(dec_part)\n",
    "    \n",
    "    exp_part = int(rep_sc.split(\"E\")[1])\n",
    "    if exp_part <0:\n",
    "        exp_pos = 0\n",
    "        exp_neg = exp_part\n",
    "    else:\n",
    "        exp_pos = exp_part\n",
    "        exp_neg = 0\n",
    "\n",
    "    exp_pos = abs(exp_pos)    \n",
    "    exp_neg = abs(exp_neg)\n",
    "    \n",
    "    rep_str = str(\"{:03}{:03}{:012}\".format(exp_pos,exp_neg,dec_part))\n",
    "    \n",
    "#     print(dec_part)\n",
    "    rep_int = int(rep_str) * c\n",
    "    rep_bin = bitstring.Bits(int=rep_int, length=64).bin\n",
    "\n",
    "    bin_tensor = torch.tensor(np.array([float(x) for x in rep_bin]))\n",
    "    return bin_tensor"
   ]
  },
  {
   "cell_type": "markdown",
   "metadata": {},
   "source": [
    "## Fasttext"
   ]
  },
  {
   "cell_type": "code",
   "execution_count": null,
   "metadata": {},
   "outputs": [],
   "source": [
    "import numpy as np\n",
    "import torch\n",
    "import fasttext\n",
    "#fasttext.util.download_model('en', if_exists='ignore')  # English\n",
    "ft = fasttext.load_model('./resources/fasttext.bin')\n",
    "print(ft.get_dimension())\n"
   ]
  },
  {
   "cell_type": "code",
   "execution_count": null,
   "metadata": {},
   "outputs": [],
   "source": [
    "def fasttex_(value):\n",
    "    if is_number(value):\n",
    "        value_f = float(value)\n",
    "        bin_tensor = num2vec(value_f)\n",
    "        return torch.cat((torch.zeros(300),bin_tensor.float()))\n",
    "    else:\n",
    "        values = value.split(\"|\")\n",
    "        out_tensor = torch.zeros(300)\n",
    "        for v in values:\n",
    "            out_tensor = out_tensor + torch.tensor(ft.get_sentence_vector(value))\n",
    "        out_tensor = out_tensor / len(values)\n",
    "        return torch.cat((out_tensor.float(),torch.zeros(64)))"
   ]
  },
  {
   "cell_type": "markdown",
   "metadata": {},
   "source": [
    "## Bert\n"
   ]
  },
  {
   "cell_type": "code",
   "execution_count": null,
   "metadata": {},
   "outputs": [],
   "source": [
    "#pip install torch==1.4.0+cpu torchvision==0.5.0+cpu -f https://download.pytorch.org/whl/torch_stable.html\n",
    "#pip install transformers\n",
    "from transformers import BertModel, BertTokenizer\n",
    "import torch\n",
    "\n",
    "#load model in memory\n",
    "tokenizer = BertTokenizer.from_pretrained('google/bert_uncased_L-12_H-768_A-12')\n",
    "model = BertModel.from_pretrained('google/bert_uncased_L-12_H-768_A-12')\n",
    "#tokenizer = BertTokenizer.from_pretrained('bert-base-uncased')\n",
    "#model = BertModel.from_pretrained('bert-base-uncased')\n",
    "# This is IMPORTANT to have reproducible results during evaluation!\n",
    "model.eval()\n",
    "\n",
    "def bert(value):\n",
    "    if is_number(value):\n",
    "        value = float(value)\n",
    "        bin_tensor = num2vec(value)\n",
    "        return torch.cat((torch.zeros(768),bin_tensor.float()))\n",
    "    else:\n",
    "        values = value.split(\"|\")\n",
    "        out_tensor = torch.zeros(768)\n",
    "        for v in values:\n",
    "            #add special tokens at the begining and end, and takes until 512 tokens max \n",
    "            tokenized = tokenizer.encode(v, add_special_tokens=True,max_length=512)\n",
    "            input_ids = torch.tensor(tokenized).unsqueeze(0)  # Batch size 1\n",
    "            outputs = model(input_ids)\n",
    "\n",
    "            last_hidden_states = outputs[0]  # The last hidden-state is the first element of the output tuple\n",
    "            #result shape: (batch size, sequence length, model hidden dimension)\n",
    "#             print(last_hidden_states.shape)\n",
    "\n",
    "            #make the mean of the vectors to have 1 vector for the whole sentence and store result\n",
    "            out_tensor = out_tensor + torch.mean(last_hidden_states[0],dim=0).detach()\n",
    "            \n",
    "        out_tensor = out_tensor / len(values)\n",
    "        return torch.cat((out_tensor.float(),torch.zeros(64)))"
   ]
  },
  {
   "cell_type": "markdown",
   "metadata": {},
   "source": [
    "## Choose word embedding"
   ]
  },
  {
   "cell_type": "code",
   "execution_count": null,
   "metadata": {},
   "outputs": [],
   "source": [
    "def word_embedding(data, model):\n",
    "    if model==\"fasttext\":\n",
    "        return fasttex_(data)\n",
    "    if model==\"bert\":\n",
    "        return bert(data)"
   ]
  },
  {
   "cell_type": "markdown",
   "metadata": {},
   "source": [
    "# Execute"
   ]
  },
  {
   "cell_type": "code",
   "execution_count": null,
   "metadata": {
    "scrolled": true
   },
   "outputs": [],
   "source": [
    "#build graph\n",
    "df_dataset = read_dataset(\"./resources/openml_203ds_datasets_index.csv\",drop_columns=[\"Num\", \"dataset_topic\"]);\n",
    "g = g = nx.Graph()\n",
    "g = graph_dataset(df_dataset,g,\"bert\")\n",
    "df_attributes = read_dataset(\"./resources/openml_203ds_attributes_nominal_index.csv\",drop_columns=[\"dataset_name\", \"type_converted\"]);\n",
    "g = graph_attribute(df_attributes,g,\"bert\")\n",
    "df_attributes_numeric = read_dataset(\"./resources/openml_203ds_attributes_numeric_index.csv\",drop_columns=[\"dataset_name\", \"type_converted\"]);\n",
    "g = graph_attribute(df_attributes_numeric,g,\"bert\")\n",
    "\n",
    "#write graph to file\n",
    "nx.write_gpickle(g, \"../word_embeddings/encoded_bert_v2.gpickle\")"
   ]
  },
  {
   "cell_type": "markdown",
   "metadata": {},
   "source": [
    "## Read previously created graph"
   ]
  },
  {
   "cell_type": "code",
   "execution_count": null,
   "metadata": {},
   "outputs": [],
   "source": [
    "#read\n",
    "g = nx.read_gpickle(\"../word_embeddings/encoded_bert_v2.gpickle\")"
   ]
  },
  {
   "cell_type": "markdown",
   "metadata": {},
   "source": [
    "## Deprecated"
   ]
  },
  {
   "cell_type": "code",
   "execution_count": null,
   "metadata": {},
   "outputs": [],
   "source": [
    "datasets = [x for x,y in g.nodes(data=True) if y['tipo']==\"dataset\"]\n",
    "datasets_features = [x for x,y in g.nodes(data=True) if y['tipo']==\"feature dataset\"]\n",
    "datasets_literals = [x for x,y in g.nodes(data=True) if y['tipo']==\"literal dataset\"]\n",
    "attributes = [x for x,y in g.nodes(data=True) if y['tipo']==\"attribute\"]\n",
    "attributes_features = [x for x,y in g.nodes(data=True) if y['tipo']==\"feature attribute\"]\n",
    "attributes_literals = [x for x,y in g.nodes(data=True) if y['tipo']==\"literal attribute\"]"
   ]
  },
  {
   "cell_type": "code",
   "execution_count": null,
   "metadata": {},
   "outputs": [],
   "source": [
    "print(len(datasets))\n",
    "print(len(datasets_features))\n",
    "print(len(datasets_literals))\n",
    "print(len(attributes))\n",
    "print(len(attributes_features))\n",
    "print(len(attributes_literals))"
   ]
  },
  {
   "cell_type": "code",
   "execution_count": null,
   "metadata": {},
   "outputs": [],
   "source": [
    "#plot\n",
    "datasets = [x for x,y in g.nodes(data=True) if y['tipo']==\"dataset\"]\n",
    "datasets_features = [x for x,y in g.nodes(data=True) if y['tipo']==\"feature dataset\"]\n",
    "datasets_literals = [x for x,y in g.nodes(data=True) if y['tipo']==\"literal dataset\"]\n",
    "attributes = [x for x,y in g.nodes(data=True) if y['tipo']==\"attribute\"]\n",
    "attributes_features = [x for x,y in g.nodes(data=True) if y['tipo']==\"feature attribute\"]\n",
    "attributes_literals = [x for x,y in g.nodes(data=True) if y['tipo']==\"literal attribute\"]\n",
    "# plot_graph(g,datasets,attributes,datasets_features + attributes_features,datasets_literals + attributes_literals);"
   ]
  },
  {
   "cell_type": "markdown",
   "metadata": {},
   "source": [
    "## Get nodes and print data from nodes"
   ]
  },
  {
   "cell_type": "code",
   "execution_count": null,
   "metadata": {},
   "outputs": [],
   "source": [
    "sample = [y for x,y in g.nodes(data=True) if y['tipo']==\"dataset\"]\n",
    "print(sample[0][\"vector\"])"
   ]
  }
 ],
 "metadata": {
  "kernelspec": {
   "display_name": "Python 3",
   "language": "python",
   "name": "python3"
  },
  "language_info": {
   "codemirror_mode": {
    "name": "ipython",
    "version": 3
   },
   "file_extension": ".py",
   "mimetype": "text/x-python",
   "name": "python",
   "nbconvert_exporter": "python",
   "pygments_lexer": "ipython3",
   "version": "3.6.9"
  }
 },
 "nbformat": 4,
 "nbformat_minor": 4
}
