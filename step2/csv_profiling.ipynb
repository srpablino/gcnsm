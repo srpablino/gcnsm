{
 "cells": [
  {
   "cell_type": "code",
   "execution_count": null,
   "metadata": {
    "scrolled": true
   },
   "outputs": [],
   "source": [
    "import openml\n",
    "import pandas as pd\n",
    "import json\n",
    "from pandas_profiling import ProfileReport\n",
    "\n",
    "##extract metafeatures and store it as json \n",
    "ids = [1,3,6,8,10,12,14,16,17,18,19,20,22,23,24,25,28,29,30,32,34,36,40,41,43,44,55,56,59,150,151,164,171,172,179,180,183,185,187,189,196,197,203,205,208,211,212,216,222,224,225,227,230,232,285,287,300,301,307,308,313,315,327,328,329,343,354,375,378,381,382,451,470,473,477,480,483,488,489,492,493,503,505,507,510,511,534,537,538,541,542,544,552,554,561,562,563,567,568,570,571,573,575,576,577,578,666,679,686,1027,1029,1030,1035,1036,1037,1038,1040,1042,1044,1045,1049,1050,1051,1053,1054,1056,1059,1063,1064,1065,1066,1067,1069,1070,1071,1075,1089,1090,1091,1093,1094,1095,1096,1097,1098,1099,1111,1114,1119,1168,1461,1462,1463,1464,1465,1466,1470,1471,1472,1476,1477,1478,1481,1483,1487,1489,1490,1495,1497,1499,1500,1501,1502,1503,1504,1505,1509,1510,1511,1516,1517,1518,1519,1520,1523,1524,1525,1526,1557,1567,1590,1596,1597,4135,4532,4534,4544,4548,4549,4552,4563,4675,6331]\n",
    "\n",
    "ds_data = None\n",
    "ds_meta = None\n",
    "ds_names = []\n",
    "\n",
    "for i in range(len(ids)):\n",
    "    ds_meta = openml.datasets.get_dataset(ids[i],download_data=False)\n",
    "    ds_names.append(ds_meta.name)\n",
    "    \n",
    "    \n",
    "set_ds = []\n",
    "set_at_num = []\n",
    "set_at_cat = []\n",
    "for i in range(141,len(ids)):\n",
    "    print(\"working with: \"+str(ids[i]))\n",
    "    df = pd.read_csv(\"./mf/\"+str(ids[i])+\".csv\", error_bad_lines=False)\n",
    "    if len(df) > 10000:\n",
    "        df = df.sample(10000)\n",
    "    profile = ProfileReport(df, minimal=True)\n",
    "    json_data = profile.to_json()\n",
    "    mf_json = json.loads(json_data)\n",
    "    ds_mf = mf_json[\"table\"]\n",
    "    ds_mf[\"name\"] = ds_names[i]\n",
    "    ds_mf[\"nominal\"] = {}\n",
    "    ds_mf[\"numeric\"] = {}\n",
    "    set_ds.append(ds_mf)\n",
    "    variables = mf_json[\"variables\"]  \n",
    "    for key in variables.keys():\n",
    "        at_mf = variables[key]\n",
    "        at_mf[\"ds_id\"] = ids[i] \n",
    "        if at_mf[\"type\"]==\"Variable.TYPE_NUM\":\n",
    "            del at_mf[\"histogram_data\"]\n",
    "            del at_mf[\"scatter_data\"]\n",
    "            del at_mf[\"histogram_bins\"]\n",
    "            ds_mf[\"numeric\"][key] = at_mf \n",
    "        else:\n",
    "            ds_mf[\"nominal\"][key] = at_mf \n",
    "    with open(\"./mf_extracted/\"+str(ids[i])+'.json', 'w') as f:\n",
    "        json.dump(ds_mf, f)"
   ]
  },
  {
   "cell_type": "code",
   "execution_count": null,
   "metadata": {},
   "outputs": [],
   "source": [
    "# #get ids of active datasets\n",
    "# ids = [1,3,6,8,10,12,14,16,17,18,19,20,22,23,24,25,28,29,30,32,34,36,40,41,43,44,55,56,59,150,151,164,171,172,179,180,183,185,187,189,196,197,203,205,208,211,212,216,222,224,225,227,230,232,285,287,300,301,307,308,313,315,327,328,329,343,354,375,378,381,382,451,470,473,477,480,483,488,489,492,493,503,505,507,510,511,534,537,538,541,542,544,552,554,561,562,563,567,568,570,571,573,575,576,577,578,666,679,686,1027,1029,1030,1035,1036,1037,1038,1040,1042,1044,1045,1049,1050,1051,1053,1054,1056,1059,1063,1064,1065,1066,1067,1069,1070,1071,1075,1089,1090,1091,1093,1094,1095,1096,1097,1098,1099,1111,1114,1119,1168,1461,1462,1463,1464,1465,1466,1470,1471,1472,1476,1477,1478,1481,1483,1487,1489,1490,1495,1497,1499,1500,1501,1502,1503,1504,1505,1509,1510,1511,1516,1517,1518,1519,1520,1523,1524,1525,1526,1557,1567,1590,1596,1597,4135,4532,4534,4544,4548,4549,4552,4563,4675,6331]\n",
    "# result = openml.datasets.check_datasets_active(ids)\n",
    "# ds = []\n",
    "# for r in result:\n",
    "#     if result[r]:\n",
    "#         ds.append(r)"
   ]
  },
  {
   "cell_type": "code",
   "execution_count": null,
   "metadata": {},
   "outputs": [],
   "source": []
  }
 ],
 "metadata": {
  "kernelspec": {
   "display_name": "Python 3",
   "language": "python",
   "name": "python3"
  },
  "language_info": {
   "codemirror_mode": {
    "name": "ipython",
    "version": 3
   },
   "file_extension": ".py",
   "mimetype": "text/x-python",
   "name": "python",
   "nbconvert_exporter": "python",
   "pygments_lexer": "ipython3",
   "version": "3.6.9"
  }
 },
 "nbformat": 4,
 "nbformat_minor": 4
}
